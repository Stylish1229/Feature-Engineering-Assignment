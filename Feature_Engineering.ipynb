{
  "nbformat": 4,
  "nbformat_minor": 0,
  "metadata": {
    "colab": {
      "provenance": []
    },
    "kernelspec": {
      "name": "python3",
      "display_name": "Python 3"
    },
    "language_info": {
      "name": "python"
    }
  },
  "cells": [
    {
      "cell_type": "markdown",
      "source": [
        "1. What is a parameter?\n",
        "- A parameter in machine learning is a value that the model learns from training data. It directly influences the model's predictions. Parameters are internal to the model, such as weights in neural networks or coefficients in regression.\n"
      ],
      "metadata": {
        "id": "VUNBsHc_go45"
      }
    },
    {
      "cell_type": "markdown",
      "source": [
        "2. What is correlation ?\n",
        "What does negative correlation mean ?\n",
        "- Correlation is a statistical measure that shows the strength and direction of a relationship between two variables. If two variables change together in a pattern, they are said to be correlated. It ranges from -1 to +1.\n",
        "- Negative correlation means that when one variable increases, the other decreases. They move in opposite directions. For example, if the number of hours spent watching TV increases and exam scores decrease, they have a negative correlation.\n",
        "\n",
        "\n",
        "\n"
      ],
      "metadata": {
        "id": "NoKjUIXEhJ8A"
      }
    },
    {
      "cell_type": "markdown",
      "source": [
        "3. Define Machine Learning. What are the main components in Machine Learning ?\n",
        "- Machine Learning is a branch of artificial intelligence that allows computers to learn from data and make decisions or predictions without being explicitly programmed.\n",
        "\n",
        "- Main Components in Machine Learning :\n",
        "\n",
        "1. Data - The raw information used to train the model.\n",
        "\n",
        "2. Model - The mathematical structure that makes predictions or decisions.\n",
        "\n",
        "3. Algorithm - The method used to train the model using data.\n",
        "\n",
        "4. Training - The process of feeding data to the model to learn patterns.\n",
        "\n",
        "5. Prediction -  The output or result the model gives after learning.\n",
        "\n",
        "\n"
      ],
      "metadata": {
        "id": "Gu9Ifp-ahkBO"
      }
    },
    {
      "cell_type": "markdown",
      "source": [
        "4. How does loss value help in determining whether the model is good or not ?\n",
        "- Loss value measures how far the model's predictions are from the actual values. A lower loss means the model is performing well, while a higher loss indicates poor performance. It helps in improving and evaluating the model during training.\n",
        "\n",
        "\n"
      ],
      "metadata": {
        "id": "OGr0znAtiG-m"
      }
    },
    {
      "cell_type": "markdown",
      "source": [
        "5. What are continuous and categorical variables ?\n",
        "- Continuous Variables :\n",
        "These are numerical variables that can take any value within a range.\n",
        "Example: Height, weight, temperature, salary.\n",
        "\n",
        "- Categorical Variables :\n",
        "These are variables that represent categories or groups.\n",
        "Example: Gender (male/female), colors (red/blue), city names.\n",
        "\n"
      ],
      "metadata": {
        "id": "Bm_0fm_ViVa-"
      }
    },
    {
      "cell_type": "markdown",
      "source": [
        "6. How do we handle categorical variables in Machine Learning? What are the common techniques ?\n",
        "- Categorical variables need to be converted into numerical form before training a machine learning model, because most models work with numbers.\n",
        "\n",
        "- Common Techniques :\n",
        "\n",
        "1. Label Encoding - Assigns a unique number to each category.\n",
        "Example: Red = 0, Green = 1, Blue = 2 .\n",
        "\n",
        "2. One-Hot Encoding - Creates separate binary columns for each category.\n",
        "Example: Red = [1, 0, 0], Green = [0, 1, 0], Blue = [0, 0, 1]\n",
        "\n",
        "\n",
        "\n"
      ],
      "metadata": {
        "id": "OaIQw6rVik6-"
      }
    },
    {
      "cell_type": "markdown",
      "source": [
        "7. What do you mean by training and testing a dataset ?\n",
        "- Training a dataset :\n",
        "It means using the data to teach the machine learning model so it can learn patterns and relationships.\n",
        "\n",
        "- Testing a dataset :\n",
        "It means checking how well the trained model performs on new, unseen data to measure its accuracy.\n",
        "\n",
        "\n"
      ],
      "metadata": {
        "id": "pYuh9U36jKY-"
      }
    },
    {
      "cell_type": "markdown",
      "source": [
        "8. What is sklearn.preprocessing ?\n",
        "- sklearn.preprocessing is a module in scikit-learn (a popular Python library) used to prepare or transform data before feeding it into a machine learning model.\n",
        "\n",
        "- It helps with tasks like :\n",
        "- Scaling (e.g., StandardScaler, MinMaxScaler)\n",
        "- Encoding categorical variables (e.g., LabelEncoder, OneHotEncoder)\n",
        "- Normalizing data\n",
        "- Handling missing values (with other modules)\n",
        "\n"
      ],
      "metadata": {
        "id": "p6kxViGxja6N"
      }
    },
    {
      "cell_type": "markdown",
      "source": [
        "9. What is a Test set ?\n",
        "- A Test set is a portion of the dataset that is separated from the training data. After the model has been trained using the training data, the test set is used to evaluate how well the model performs on unseen data.\n",
        "\n",
        "- Key points :\n",
        "- It helps assess model accuracy and generalization.\n",
        "- The test set should not be used during the training process.\n",
        "- It helps understand if the model is overfitting or underfitting.\n",
        "\n",
        "\n",
        "\n"
      ],
      "metadata": {
        "id": "nyvMS-oYj7Lm"
      }
    },
    {
      "cell_type": "markdown",
      "source": [
        "10. How do we split data for model fitting (training and testing) in Python ?\n",
        "How do you approach a Machine Learning problem ?\n",
        "- In Python, train_test_split from sklearn.model_selection is commonly used to split data into training and test sets .\n",
        "- Here's a step-by-step approach :\n",
        "1. Define the Problem : Understand the problem you're solving (classification, regression, etc.).\n",
        "\n",
        "2. Collect Data : Gather relevant data that can help solve the problem.\n",
        "\n",
        "3. Preprocess Data : Clean, handle missing values, encode categorical variables, and scale/normalize data.\n",
        "\n",
        "4. Split the Data : Divide data into training and testing sets.\n",
        "\n",
        "5. Choose a Model : Select a suitable machine learning algorithm (e.g., linear regression, decision trees, etc.).\n",
        "\n",
        "6. Train the Model : Fit the model on the training data.\n",
        "\n",
        "7. Evaluate the Model : Use the test set to assess the model's performance.\n",
        "\n",
        "8. Tune Hyperparameters : Optimize the model using techniques like grid search or cross-validation.\n",
        "\n",
        "9. Deploy the Model : Once satisfied, deploy the model for real-world use.\n",
        "\n"
      ],
      "metadata": {
        "id": "knVUdbn4khGe"
      }
    },
    {
      "cell_type": "markdown",
      "source": [
        "11. Why do we have to perform EDA before fitting a model to the data ?\n",
        "- Exploratory Data Analysis (EDA) is crucial before fitting a model for several reasons :\n",
        "1. Understanding the Data :\n",
        "EDA helps you understand the structure, distribution, and relationships of the data, allowing you to make better decisions about how to handle it.\n",
        "2. Detecting Data Issues :\n",
        "It allows you to identify and address issues like : Missing values , Outliers,\n",
        "Incorrect data (e.g., negative values where they shouldn't be).\n",
        "3. Feature Selection/Engineering :\n",
        "By visualizing correlations and distributions, you can identify which features are important for the model and whether any feature engineering is needed (e.g.,creating new features or transforming existing ones).\n",
        "4. Choosing the Right Model :\n",
        "EDA helps in understanding whether your problem is classification or regression and whether any transformations or scalings are needed before applying machine learning models.\n",
        "5. Checking Assumptions :\n",
        "Many machine learning models have assumptions (e.g., normal distribution in linear regression). EDA helps you verify whether the data meets these assumptions or needs adjustments.\n",
        "\n",
        "\n",
        "\n",
        "\n",
        "\n",
        "\n",
        "\n",
        "\n",
        "\n"
      ],
      "metadata": {
        "id": "i0YI5XTFlVS3"
      }
    },
    {
      "cell_type": "markdown",
      "source": [
        "12. What is correlation ?\n",
        "- Correlation is a statistical measure that describes the relationship between two variables and how they move together. It tells us whether an increase or decrease in one variable corresponds to an increase or decrease in another.\n",
        "- Key Points :\n",
        "- Positive Correlation : When one variable increases, the other also increases (e.g., height and weight).\n",
        "- Negative Correlation: When one variable increases, the other decreases (e.g., hours of study and mistakes made in an exam).\n",
        "- No Correlation: No consistent pattern between the two variables (e.g., shoe size and intelligence).\n",
        "- Correlation Coefficient (r) :\n",
        "Range: -1 to +1 , +1 : Perfect positive correlation , -1: Perfect negative correlation , 0: No correlation\n",
        "\n",
        "\n",
        "\n",
        "\n",
        "\n"
      ],
      "metadata": {
        "id": "nnJeEwBDoUdL"
      }
    },
    {
      "cell_type": "markdown",
      "source": [
        "13. What does negative correlation mean ?\n",
        "- Negative correlation means that when one variable increases, the other variable tends to decrease. In other words, they move in opposite directions.\n",
        "- Example :\n",
        "Study hours and mistakes in an exam : If the more hours you study, the fewer mistakes you make, there's a negative correlation between the two variables.\n",
        "- Temperature and heating bills : As the temperature increases (warmer weather), heating bills tend to decrease, indicating a negative correlation.\n",
        "\n"
      ],
      "metadata": {
        "id": "-hDlcsvqpmkU"
      }
    },
    {
      "cell_type": "markdown",
      "source": [
        "14. How can you find correlation between variables in Python ?\n",
        "- To find correlation between variables, we use the corr() function in Pandas.\n",
        "- It shows the relationship between the variables.\n",
        "- Positive correlation means both variables increase or decrease together.\n",
        "- Negative correlation means when one variable increases, the other decreases.\n",
        "- Zero correlation means there is no relationship between the variables.\n"
      ],
      "metadata": {
        "id": "VOCcpoTCqEpT"
      }
    },
    {
      "cell_type": "markdown",
      "source": [
        "15. What is causation? Explain difference between correlation and causation with an example ?\n",
        "- Causation refers to a cause-and-effect relationship between two variables, where one variable directly causes the change in the other.\n",
        "- Difference between Correlation and Causation :\n",
        "- Correlation: Indicates a relationship between two variables, but does not imply that one causes the other. It just shows that they move together.\n",
        "- Causation: Implies that one variable directly causes a change in the other. It goes beyond just a relationship and establishes cause and effect.\n",
        "\n",
        "- Example :\n",
        "- Correlation : There might be a correlation between the number of ice creams sold and the number of people who drown. They both increase in the summer, but it's not that ice cream sales cause drowning.\n",
        "- Causation : If smoking causes lung cancer, that's causation, because smoking directly leads to the development of lung cancer.\n",
        "\n"
      ],
      "metadata": {
        "id": "MaHBxZVYsG1y"
      }
    },
    {
      "cell_type": "markdown",
      "source": [
        "16. What is an Optimizer? What are different types of optimizers? Explain each with an example .\n",
        "- An optimizer in machine learning is an algorithm that adjusts the parameters (like weights) of a model to minimize or maximize a particular objective function, typically the loss function. The goal is to improve the model's performance by finding the optimal values for the parameters.\n",
        "- Different Types of Optimizers :\n",
        "1. Gradient Descent (GD) :\n",
        "- What it does: The most basic optimizer. It calculates the gradient (derivative) of the loss function with respect to the model's parameters, then moves in the opposite direction of the gradient to reduce the loss.\n",
        "- Example: In linear regression, gradient descent adjusts the weights to minimize the error between predicted and actual values.\n",
        "- Types of Gradient Descent :\n",
        "- Batch Gradient Descent: Uses the entire dataset to compute the gradient for each update.\n",
        "- Stochastic Gradient Descent (SGD): Uses a single data point to compute the gradient at each step.\n",
        "- Mini-Batch Gradient Descent: Uses a subset (mini-batch) of the data to compute the gradient.\n",
        "2. Momentum :\n",
        "- What it does: It improves gradient descent by adding a \"momentum\" term that helps the optimizer accelerate in the right direction and dampen oscillations.\n",
        "- Example: Momentum can be helpful when you have a lot of local minima, as it helps the optimizer keep moving in the right direction instead of getting stuck.\n",
        "\n",
        "- Summary of the Key Optimizers :\n",
        "1. Gradient Descent (GD): Simple but can be slow.\n",
        "2. Momentum: Accelerates convergence by adding inertia.\n",
        "3. RMSProp: Good for non-stationary objectives like RNNs.\n",
        "4. Adam: Most popular and effective for deep learning tasks.\n",
        "5. Adagrad: Good for sparse data but may suffer from rapidly decreasing learning rates.\n",
        "6. Adadelta: An improved version of Adagrad, addressing the learning rate decay issue."
      ],
      "metadata": {
        "id": "fAOCxnLRslEl"
      }
    },
    {
      "cell_type": "markdown",
      "source": [
        "17. What is sklearn.linear_model ?\n",
        "- sklearn.linear_model is a module in scikit-learn that provides machine learning models based on linear equations. It includes models like LinearRegression for predicting continuous values and LogisticRegression for classification problems. It also supports regularized models like Ridge and Lasso to prevent overfitting."
      ],
      "metadata": {
        "id": "ZJhrUxrQvHB7"
      }
    },
    {
      "cell_type": "markdown",
      "source": [
        "18. What does model.fit() do? What arguments must be given ?\n",
        "- model.fit() is used to train a machine learning model. It learns the relationship between the input features (X) and the target labels (y) from the training data.\n",
        "- Required Arguments :\n",
        "- X - The input features (independent variables).\n",
        "- y - The target/output variable (dependent variable).\n",
        "\n"
      ],
      "metadata": {
        "id": "s-UGQx7avkVM"
      }
    },
    {
      "cell_type": "markdown",
      "source": [
        "19. What does model.predict() do? What arguments must be given ?\n",
        "- model.predict() is used to make predictions using the trained model on new or test data.\n",
        "- Required Argument :\n",
        "- X - The input features (independent variables) for which you want to predict the output"
      ],
      "metadata": {
        "id": "O-zdCAiyv-0r"
      }
    },
    {
      "cell_type": "markdown",
      "source": [
        "20. What are continuous and categorical variables ?\n",
        "- Continuous Variables : These are numerical values that can take any value within a range, including decimals.\n",
        "Example: height, weight, temperature, income.\n",
        "- Categorical Variables : These are variables with fixed categories or labels. They represent groups or types, not numbers.\n",
        "Example: gender (male/female), color (red/blue/green), city names.\n",
        "\n",
        "\n"
      ],
      "metadata": {
        "id": "F9AugvcVwTHI"
      }
    },
    {
      "cell_type": "markdown",
      "source": [
        "21. What is feature scaling? How does it help in Machine Learning ?\n",
        "- Feature scaling is the process of normalizing or standardizing the range of independent variables (features) in a dataset.\n",
        "- It help in Machine Learning :\n",
        "- It ensures that all features contribute equally to the result.\n",
        "- It improves the performance and accuracy of models like KNN, SVM, and Gradient Descent-based algorithms.\n",
        "- It helps models converge faster during training.\n",
        "- Common Methods :\n",
        "Standardization (Z-score),Min-Max Scaling (Normalization)\n",
        "\n"
      ],
      "metadata": {
        "id": "G8NElS62w0QD"
      }
    },
    {
      "cell_type": "markdown",
      "source": [
        "22. How do we perform scaling in Python ?\n",
        "- We use sklearn.preprocessing module for scaling.\n",
        "- Two common techniques are :\n",
        "- StandardScaler - It scales the data so that it has mean = 0 and standard deviation = 1.\n",
        "- MinMaxScaler -  It scales the data between a fixed range, usually 0 to 1.\n",
        "- These are used to make features comparable and improve model performance."
      ],
      "metadata": {
        "id": "Ht4FQcCSyBmz"
      }
    },
    {
      "cell_type": "markdown",
      "source": [
        "23. What is sklearn.preprocessing ?\n",
        "- sklearn.preprocessing is a module in the scikit-learn library that provides functions to prepare and transform data before feeding it to a machine learning model.\n",
        "- It helps with :\n",
        "1. Scaling (e.g., StandardScaler, MinMaxScaler)\n",
        "2. Encoding categorical variables (e.g., LabelEncoder, OneHotEncoder)\n",
        "3. Handling missing values, normalization, and more\n",
        "- It ensures that the data is in the right format for better model accuracy and training.\n",
        "\n",
        "\n",
        "\n",
        "\n",
        "\n",
        "\n",
        "\n",
        "\n"
      ],
      "metadata": {
        "id": "D0A8McTByeEM"
      }
    },
    {
      "cell_type": "markdown",
      "source": [
        "24. How do we split data for model fitting (training and testing) in Python ?\n",
        "- To split data for model fitting (training and testing) in Python, we use train_test_split() from sklearn.model_selection.\n",
        "- It works :\n",
        "1. Training Set: Used to train the model.\n",
        "2. Test Set: Used to evaluate the model's performance on unseen data.\n",
        "\n",
        "- Example :\n",
        "You provide the feature data (X) and the target labels (y),\n",
        "You specify the test size (e.g., 0.2 means 20% data will be used for testing).\n",
        "\n"
      ],
      "metadata": {
        "id": "DDsdU86fy6ZS"
      }
    },
    {
      "cell_type": "markdown",
      "source": [
        "25. Explain data encoding ?\n",
        "- Data encoding is the process of converting categorical data (non-numerical) into numerical values so that machine learning algorithms can understand and process the data.\n",
        "- Types of Encoding :\n",
        "1. Label Encoding : Each category is assigned a unique integer label.\n",
        "2. One-Hot Encoding : Each category is converted into a binary vector where only one value is 1 (indicating the presence of the category), and the rest are 0s.\n",
        "- Encoding is Important : Machine learning algorithms require numerical input, so encoding allows us to transform categorical data into a form the model can work with."
      ],
      "metadata": {
        "id": "7efk1cXNzda8"
      }
    }
  ]
}